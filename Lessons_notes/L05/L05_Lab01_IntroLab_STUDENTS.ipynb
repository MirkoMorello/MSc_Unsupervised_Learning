{
  "cells": [
    {
      "cell_type": "markdown",
      "metadata": {
        "id": "qdHuBl1iAp8V"
      },
      "source": [
        "# **TASK 0: Preliminaries**"
      ]
    },
    {
      "cell_type": "markdown",
      "metadata": {
        "id": "Vqv-PLVCBdD3"
      },
      "source": [
        "## Preamble: import useful packages and functions"
      ]
    },
    {
      "cell_type": "code",
      "execution_count": 77,
      "metadata": {
        "id": "mD_sr1WTbJ37"
      },
      "outputs": [],
      "source": [
        "import io\n",
        "import pandas as pd\n",
        "import numpy as np\n",
        "import matplotlib.pyplot as plt\n",
        "import seaborn as sns"
      ]
    },
    {
      "cell_type": "markdown",
      "metadata": {
        "id": "EvjUfmZiBaxR"
      },
      "source": [
        "## Load a .csv file"
      ]
    },
    {
      "cell_type": "code",
      "execution_count": 156,
      "metadata": {
        "id": "Ih2EYjbOIllv"
      },
      "outputs": [],
      "source": [
        "# Load the .csv file\n",
        "# from google.colab import files\n",
        "# uploaded = files.upload()"
      ]
    },
    {
      "cell_type": "markdown",
      "metadata": {
        "id": "v06qpfXBBnpg"
      },
      "source": [
        "## Transform the dataset into a Pandas DataFrame"
      ]
    },
    {
      "cell_type": "code",
      "execution_count": 79,
      "metadata": {
        "id": "OU3M_nyPBR1g"
      },
      "outputs": [],
      "source": [
        "# Transform your dataset into a Pandas DataFrame\n",
        "df = pd.read_csv('./datasets/fortune500(2017-2021).csv', sep=',')"
      ]
    },
    {
      "cell_type": "markdown",
      "metadata": {
        "id": "aQXTw4c3A4r-"
      },
      "source": [
        "# **TASK1: Explore the dataset**"
      ]
    },
    {
      "cell_type": "code",
      "execution_count": 80,
      "metadata": {
        "id": "KPGYXHLnY96S"
      },
      "outputs": [
        {
          "data": {
            "text/html": [
              "<div>\n",
              "<style scoped>\n",
              "    .dataframe tbody tr th:only-of-type {\n",
              "        vertical-align: middle;\n",
              "    }\n",
              "\n",
              "    .dataframe tbody tr th {\n",
              "        vertical-align: top;\n",
              "    }\n",
              "\n",
              "    .dataframe thead th {\n",
              "        text-align: right;\n",
              "    }\n",
              "</style>\n",
              "<table border=\"1\" class=\"dataframe\">\n",
              "  <thead>\n",
              "    <tr style=\"text-align: right;\">\n",
              "      <th></th>\n",
              "      <th>Unnamed: 0</th>\n",
              "      <th>Rank</th>\n",
              "      <th>Name</th>\n",
              "      <th>Revenues($M)</th>\n",
              "      <th>Revenue Percent Change</th>\n",
              "      <th>Profits ($M)</th>\n",
              "      <th>Profits Percent Change</th>\n",
              "      <th>Assets ($M)</th>\n",
              "      <th>Market Value as of march 31st of that year</th>\n",
              "      <th>Change in Rank (Full 1000)</th>\n",
              "      <th>Employees</th>\n",
              "      <th>Change in Rank (500 only)</th>\n",
              "      <th>Year</th>\n",
              "    </tr>\n",
              "  </thead>\n",
              "  <tbody>\n",
              "    <tr>\n",
              "      <th>0</th>\n",
              "      <td>0</td>\n",
              "      <td>1</td>\n",
              "      <td>Walmart</td>\n",
              "      <td>559151.0</td>\n",
              "      <td>0.07</td>\n",
              "      <td>13510.0</td>\n",
              "      <td>-0.09</td>\n",
              "      <td>252496.0</td>\n",
              "      <td>382642.8</td>\n",
              "      <td>NaN</td>\n",
              "      <td>2300000.0</td>\n",
              "      <td>NaN</td>\n",
              "      <td>2021</td>\n",
              "    </tr>\n",
              "    <tr>\n",
              "      <th>1</th>\n",
              "      <td>1</td>\n",
              "      <td>2</td>\n",
              "      <td>Amazon</td>\n",
              "      <td>386064.0</td>\n",
              "      <td>0.38</td>\n",
              "      <td>21331.0</td>\n",
              "      <td>0.84</td>\n",
              "      <td>321195.0</td>\n",
              "      <td>1558069.6</td>\n",
              "      <td>NaN</td>\n",
              "      <td>1298000.0</td>\n",
              "      <td>NaN</td>\n",
              "      <td>2021</td>\n",
              "    </tr>\n",
              "    <tr>\n",
              "      <th>2</th>\n",
              "      <td>2</td>\n",
              "      <td>3</td>\n",
              "      <td>Apple</td>\n",
              "      <td>274515.0</td>\n",
              "      <td>0.06</td>\n",
              "      <td>57411.0</td>\n",
              "      <td>0.04</td>\n",
              "      <td>323888.0</td>\n",
              "      <td>2050665.9</td>\n",
              "      <td>1.0</td>\n",
              "      <td>147000.0</td>\n",
              "      <td>1.0</td>\n",
              "      <td>2021</td>\n",
              "    </tr>\n",
              "    <tr>\n",
              "      <th>3</th>\n",
              "      <td>3</td>\n",
              "      <td>4</td>\n",
              "      <td>CVS Health</td>\n",
              "      <td>268706.0</td>\n",
              "      <td>0.05</td>\n",
              "      <td>7179.0</td>\n",
              "      <td>0.08</td>\n",
              "      <td>230715.0</td>\n",
              "      <td>98653.2</td>\n",
              "      <td>1.0</td>\n",
              "      <td>256500.0</td>\n",
              "      <td>1.0</td>\n",
              "      <td>2021</td>\n",
              "    </tr>\n",
              "    <tr>\n",
              "      <th>4</th>\n",
              "      <td>4</td>\n",
              "      <td>5</td>\n",
              "      <td>UnitedHealth Group</td>\n",
              "      <td>257141.0</td>\n",
              "      <td>0.06</td>\n",
              "      <td>15403.0</td>\n",
              "      <td>0.11</td>\n",
              "      <td>197289.0</td>\n",
              "      <td>351725.0</td>\n",
              "      <td>2.0</td>\n",
              "      <td>330000.0</td>\n",
              "      <td>2.0</td>\n",
              "      <td>2021</td>\n",
              "    </tr>\n",
              "    <tr>\n",
              "      <th>5</th>\n",
              "      <td>5</td>\n",
              "      <td>6</td>\n",
              "      <td>Berkshire Hathaway</td>\n",
              "      <td>245510.0</td>\n",
              "      <td>-0.04</td>\n",
              "      <td>42521.0</td>\n",
              "      <td>-0.48</td>\n",
              "      <td>873729.0</td>\n",
              "      <td>587823.0</td>\n",
              "      <td>NaN</td>\n",
              "      <td>360000.0</td>\n",
              "      <td>NaN</td>\n",
              "      <td>2021</td>\n",
              "    </tr>\n",
              "    <tr>\n",
              "      <th>6</th>\n",
              "      <td>6</td>\n",
              "      <td>7</td>\n",
              "      <td>McKesson</td>\n",
              "      <td>231051.0</td>\n",
              "      <td>0.08</td>\n",
              "      <td>900.0</td>\n",
              "      <td>25.47</td>\n",
              "      <td>61247.0</td>\n",
              "      <td>31044.0</td>\n",
              "      <td>1.0</td>\n",
              "      <td>70000.0</td>\n",
              "      <td>1.0</td>\n",
              "      <td>2021</td>\n",
              "    </tr>\n",
              "    <tr>\n",
              "      <th>7</th>\n",
              "      <td>7</td>\n",
              "      <td>8</td>\n",
              "      <td>AmerisourceBergen</td>\n",
              "      <td>189893.9</td>\n",
              "      <td>0.06</td>\n",
              "      <td>-3408.7</td>\n",
              "      <td>-4.99</td>\n",
              "      <td>44274.8</td>\n",
              "      <td>24169.7</td>\n",
              "      <td>2.0</td>\n",
              "      <td>21500.0</td>\n",
              "      <td>2.0</td>\n",
              "      <td>2021</td>\n",
              "    </tr>\n",
              "    <tr>\n",
              "      <th>8</th>\n",
              "      <td>8</td>\n",
              "      <td>9</td>\n",
              "      <td>Alphabet</td>\n",
              "      <td>182527.0</td>\n",
              "      <td>0.13</td>\n",
              "      <td>40269.0</td>\n",
              "      <td>0.17</td>\n",
              "      <td>319616.0</td>\n",
              "      <td>1392561.8</td>\n",
              "      <td>2.0</td>\n",
              "      <td>135301.0</td>\n",
              "      <td>2.0</td>\n",
              "      <td>2021</td>\n",
              "    </tr>\n",
              "    <tr>\n",
              "      <th>9</th>\n",
              "      <td>9</td>\n",
              "      <td>10</td>\n",
              "      <td>Exxon Mobil</td>\n",
              "      <td>181502.0</td>\n",
              "      <td>-0.32</td>\n",
              "      <td>-22440.0</td>\n",
              "      <td>-2.57</td>\n",
              "      <td>332750.0</td>\n",
              "      <td>236355.4</td>\n",
              "      <td>-7.0</td>\n",
              "      <td>72000.0</td>\n",
              "      <td>-7.0</td>\n",
              "      <td>2021</td>\n",
              "    </tr>\n",
              "  </tbody>\n",
              "</table>\n",
              "</div>"
            ],
            "text/plain": [
              "   Unnamed: 0  Rank                Name  Revenues($M)  Revenue Percent Change  \\\n",
              "0           0     1             Walmart      559151.0                    0.07   \n",
              "1           1     2              Amazon      386064.0                    0.38   \n",
              "2           2     3               Apple      274515.0                    0.06   \n",
              "3           3     4          CVS Health      268706.0                    0.05   \n",
              "4           4     5  UnitedHealth Group      257141.0                    0.06   \n",
              "5           5     6  Berkshire Hathaway      245510.0                   -0.04   \n",
              "6           6     7            McKesson      231051.0                    0.08   \n",
              "7           7     8   AmerisourceBergen      189893.9                    0.06   \n",
              "8           8     9            Alphabet      182527.0                    0.13   \n",
              "9           9    10         Exxon Mobil      181502.0                   -0.32   \n",
              "\n",
              "   Profits ($M)  Profits Percent Change  Assets ($M)  \\\n",
              "0       13510.0                   -0.09     252496.0   \n",
              "1       21331.0                    0.84     321195.0   \n",
              "2       57411.0                    0.04     323888.0   \n",
              "3        7179.0                    0.08     230715.0   \n",
              "4       15403.0                    0.11     197289.0   \n",
              "5       42521.0                   -0.48     873729.0   \n",
              "6         900.0                   25.47      61247.0   \n",
              "7       -3408.7                   -4.99      44274.8   \n",
              "8       40269.0                    0.17     319616.0   \n",
              "9      -22440.0                   -2.57     332750.0   \n",
              "\n",
              "   Market Value as of march 31st of that year  Change in Rank (Full 1000)  \\\n",
              "0                                    382642.8                         NaN   \n",
              "1                                   1558069.6                         NaN   \n",
              "2                                   2050665.9                         1.0   \n",
              "3                                     98653.2                         1.0   \n",
              "4                                    351725.0                         2.0   \n",
              "5                                    587823.0                         NaN   \n",
              "6                                     31044.0                         1.0   \n",
              "7                                     24169.7                         2.0   \n",
              "8                                   1392561.8                         2.0   \n",
              "9                                    236355.4                        -7.0   \n",
              "\n",
              "   Employees  Change in Rank (500 only)  Year  \n",
              "0  2300000.0                        NaN  2021  \n",
              "1  1298000.0                        NaN  2021  \n",
              "2   147000.0                        1.0  2021  \n",
              "3   256500.0                        1.0  2021  \n",
              "4   330000.0                        2.0  2021  \n",
              "5   360000.0                        NaN  2021  \n",
              "6    70000.0                        1.0  2021  \n",
              "7    21500.0                        2.0  2021  \n",
              "8   135301.0                        2.0  2021  \n",
              "9    72000.0                       -7.0  2021  "
            ]
          },
          "execution_count": 80,
          "metadata": {},
          "output_type": "execute_result"
        }
      ],
      "source": [
        "# Print the first 10 objects of the dataset with all their attributes\n",
        "#\n",
        "df[0:10]"
      ]
    },
    {
      "cell_type": "code",
      "execution_count": 81,
      "metadata": {
        "id": "hlc1ZVJdCWyK"
      },
      "outputs": [
        {
          "data": {
            "text/html": [
              "<div>\n",
              "<style scoped>\n",
              "    .dataframe tbody tr th:only-of-type {\n",
              "        vertical-align: middle;\n",
              "    }\n",
              "\n",
              "    .dataframe tbody tr th {\n",
              "        vertical-align: top;\n",
              "    }\n",
              "\n",
              "    .dataframe thead th {\n",
              "        text-align: right;\n",
              "    }\n",
              "</style>\n",
              "<table border=\"1\" class=\"dataframe\">\n",
              "  <thead>\n",
              "    <tr style=\"text-align: right;\">\n",
              "      <th></th>\n",
              "      <th>Unnamed: 0</th>\n",
              "      <th>Rank</th>\n",
              "      <th>Name</th>\n",
              "      <th>Revenues($M)</th>\n",
              "      <th>Revenue Percent Change</th>\n",
              "      <th>Profits ($M)</th>\n",
              "      <th>Profits Percent Change</th>\n",
              "      <th>Assets ($M)</th>\n",
              "      <th>Market Value as of march 31st of that year</th>\n",
              "      <th>Change in Rank (Full 1000)</th>\n",
              "      <th>Employees</th>\n",
              "      <th>Change in Rank (500 only)</th>\n",
              "      <th>Year</th>\n",
              "    </tr>\n",
              "  </thead>\n",
              "  <tbody>\n",
              "    <tr>\n",
              "      <th>2490</th>\n",
              "      <td>2490</td>\n",
              "      <td>491</td>\n",
              "      <td>Liberty Media</td>\n",
              "      <td>5276.0</td>\n",
              "      <td>0.10</td>\n",
              "      <td>680.0</td>\n",
              "      <td>9.63</td>\n",
              "      <td>31377.0</td>\n",
              "      <td>13055.0</td>\n",
              "      <td>3626.0</td>\n",
              "      <td>34.0</td>\n",
              "      <td>NaN</td>\n",
              "      <td>2017</td>\n",
              "    </tr>\n",
              "    <tr>\n",
              "      <th>2491</th>\n",
              "      <td>2491</td>\n",
              "      <td>492</td>\n",
              "      <td>Rockwell Collins</td>\n",
              "      <td>5259.0</td>\n",
              "      <td>0.00</td>\n",
              "      <td>728.0</td>\n",
              "      <td>0.06</td>\n",
              "      <td>7707.0</td>\n",
              "      <td>12711.0</td>\n",
              "      <td>19000.0</td>\n",
              "      <td>-2.0</td>\n",
              "      <td>-2.0</td>\n",
              "      <td>2017</td>\n",
              "    </tr>\n",
              "    <tr>\n",
              "      <th>2492</th>\n",
              "      <td>2492</td>\n",
              "      <td>493</td>\n",
              "      <td>Robert Half International</td>\n",
              "      <td>5250.0</td>\n",
              "      <td>0.03</td>\n",
              "      <td>343.4</td>\n",
              "      <td>-0.04</td>\n",
              "      <td>1778.0</td>\n",
              "      <td>6240.0</td>\n",
              "      <td>16400.0</td>\n",
              "      <td>10.0</td>\n",
              "      <td>NaN</td>\n",
              "      <td>2017</td>\n",
              "    </tr>\n",
              "    <tr>\n",
              "      <th>2493</th>\n",
              "      <td>2493</td>\n",
              "      <td>494</td>\n",
              "      <td>CH2M Hill</td>\n",
              "      <td>5236.0</td>\n",
              "      <td>-0.02</td>\n",
              "      <td>15.0</td>\n",
              "      <td>-0.81</td>\n",
              "      <td>2671.0</td>\n",
              "      <td>NaN</td>\n",
              "      <td>20000.0</td>\n",
              "      <td>-16.0</td>\n",
              "      <td>-16.0</td>\n",
              "      <td>2017</td>\n",
              "    </tr>\n",
              "    <tr>\n",
              "      <th>2494</th>\n",
              "      <td>2494</td>\n",
              "      <td>495</td>\n",
              "      <td>Big Lots</td>\n",
              "      <td>5200.0</td>\n",
              "      <td>0.00</td>\n",
              "      <td>152.8</td>\n",
              "      <td>0.07</td>\n",
              "      <td>1608.0</td>\n",
              "      <td>2180.0</td>\n",
              "      <td>23150.0</td>\n",
              "      <td>NaN</td>\n",
              "      <td>NaN</td>\n",
              "      <td>2017</td>\n",
              "    </tr>\n",
              "    <tr>\n",
              "      <th>2495</th>\n",
              "      <td>2495</td>\n",
              "      <td>496</td>\n",
              "      <td>Michaels Cos.</td>\n",
              "      <td>5197.0</td>\n",
              "      <td>0.06</td>\n",
              "      <td>378.2</td>\n",
              "      <td>0.04</td>\n",
              "      <td>2148.0</td>\n",
              "      <td>4229.0</td>\n",
              "      <td>31000.0</td>\n",
              "      <td>21.0</td>\n",
              "      <td>NaN</td>\n",
              "      <td>2017</td>\n",
              "    </tr>\n",
              "    <tr>\n",
              "      <th>2496</th>\n",
              "      <td>2496</td>\n",
              "      <td>497</td>\n",
              "      <td>Toll Brothers</td>\n",
              "      <td>5170.0</td>\n",
              "      <td>0.24</td>\n",
              "      <td>382.1</td>\n",
              "      <td>0.05</td>\n",
              "      <td>9737.0</td>\n",
              "      <td>5872.0</td>\n",
              "      <td>4200.0</td>\n",
              "      <td>79.0</td>\n",
              "      <td>NaN</td>\n",
              "      <td>2017</td>\n",
              "    </tr>\n",
              "    <tr>\n",
              "      <th>2497</th>\n",
              "      <td>2497</td>\n",
              "      <td>498</td>\n",
              "      <td>Yahoo</td>\n",
              "      <td>5169.0</td>\n",
              "      <td>0.04</td>\n",
              "      <td>-214.3</td>\n",
              "      <td>NaN</td>\n",
              "      <td>48083.0</td>\n",
              "      <td>44391.0</td>\n",
              "      <td>8500.0</td>\n",
              "      <td>15.0</td>\n",
              "      <td>NaN</td>\n",
              "      <td>2017</td>\n",
              "    </tr>\n",
              "    <tr>\n",
              "      <th>2498</th>\n",
              "      <td>2498</td>\n",
              "      <td>499</td>\n",
              "      <td>Vistra Energy</td>\n",
              "      <td>5164.0</td>\n",
              "      <td>NaN</td>\n",
              "      <td>NaN</td>\n",
              "      <td>NaN</td>\n",
              "      <td>15167.0</td>\n",
              "      <td>6968.0</td>\n",
              "      <td>4431.0</td>\n",
              "      <td>NaN</td>\n",
              "      <td>NaN</td>\n",
              "      <td>2017</td>\n",
              "    </tr>\n",
              "    <tr>\n",
              "      <th>2499</th>\n",
              "      <td>2499</td>\n",
              "      <td>500</td>\n",
              "      <td>ABM Industries</td>\n",
              "      <td>5145.0</td>\n",
              "      <td>-0.03</td>\n",
              "      <td>57.2</td>\n",
              "      <td>-0.25</td>\n",
              "      <td>2281.0</td>\n",
              "      <td>2428.0</td>\n",
              "      <td>110000.0</td>\n",
              "      <td>-15.0</td>\n",
              "      <td>-15.0</td>\n",
              "      <td>2017</td>\n",
              "    </tr>\n",
              "  </tbody>\n",
              "</table>\n",
              "</div>"
            ],
            "text/plain": [
              "      Unnamed: 0  Rank                       Name  Revenues($M)  \\\n",
              "2490        2490   491              Liberty Media        5276.0   \n",
              "2491        2491   492           Rockwell Collins        5259.0   \n",
              "2492        2492   493  Robert Half International        5250.0   \n",
              "2493        2493   494                  CH2M Hill        5236.0   \n",
              "2494        2494   495                   Big Lots        5200.0   \n",
              "2495        2495   496              Michaels Cos.        5197.0   \n",
              "2496        2496   497              Toll Brothers        5170.0   \n",
              "2497        2497   498                      Yahoo        5169.0   \n",
              "2498        2498   499              Vistra Energy        5164.0   \n",
              "2499        2499   500             ABM Industries        5145.0   \n",
              "\n",
              "      Revenue Percent Change  Profits ($M)  Profits Percent Change  \\\n",
              "2490                    0.10         680.0                    9.63   \n",
              "2491                    0.00         728.0                    0.06   \n",
              "2492                    0.03         343.4                   -0.04   \n",
              "2493                   -0.02          15.0                   -0.81   \n",
              "2494                    0.00         152.8                    0.07   \n",
              "2495                    0.06         378.2                    0.04   \n",
              "2496                    0.24         382.1                    0.05   \n",
              "2497                    0.04        -214.3                     NaN   \n",
              "2498                     NaN           NaN                     NaN   \n",
              "2499                   -0.03          57.2                   -0.25   \n",
              "\n",
              "      Assets ($M)  Market Value as of march 31st of that year  \\\n",
              "2490      31377.0                                     13055.0   \n",
              "2491       7707.0                                     12711.0   \n",
              "2492       1778.0                                      6240.0   \n",
              "2493       2671.0                                         NaN   \n",
              "2494       1608.0                                      2180.0   \n",
              "2495       2148.0                                      4229.0   \n",
              "2496       9737.0                                      5872.0   \n",
              "2497      48083.0                                     44391.0   \n",
              "2498      15167.0                                      6968.0   \n",
              "2499       2281.0                                      2428.0   \n",
              "\n",
              "      Change in Rank (Full 1000)  Employees  Change in Rank (500 only)  Year  \n",
              "2490                      3626.0       34.0                        NaN  2017  \n",
              "2491                     19000.0       -2.0                       -2.0  2017  \n",
              "2492                     16400.0       10.0                        NaN  2017  \n",
              "2493                     20000.0      -16.0                      -16.0  2017  \n",
              "2494                     23150.0        NaN                        NaN  2017  \n",
              "2495                     31000.0       21.0                        NaN  2017  \n",
              "2496                      4200.0       79.0                        NaN  2017  \n",
              "2497                      8500.0       15.0                        NaN  2017  \n",
              "2498                      4431.0        NaN                        NaN  2017  \n",
              "2499                    110000.0      -15.0                      -15.0  2017  "
            ]
          },
          "execution_count": 81,
          "metadata": {},
          "output_type": "execute_result"
        }
      ],
      "source": [
        "# Print the last 10 objects of the dataset with all their attributes\n",
        "#\n",
        "df[-10:]"
      ]
    },
    {
      "cell_type": "code",
      "execution_count": 82,
      "metadata": {
        "id": "yQzdkQ1kTV70"
      },
      "outputs": [
        {
          "data": {
            "text/html": [
              "<div>\n",
              "<style scoped>\n",
              "    .dataframe tbody tr th:only-of-type {\n",
              "        vertical-align: middle;\n",
              "    }\n",
              "\n",
              "    .dataframe tbody tr th {\n",
              "        vertical-align: top;\n",
              "    }\n",
              "\n",
              "    .dataframe thead th {\n",
              "        text-align: right;\n",
              "    }\n",
              "</style>\n",
              "<table border=\"1\" class=\"dataframe\">\n",
              "  <thead>\n",
              "    <tr style=\"text-align: right;\">\n",
              "      <th></th>\n",
              "      <th>Unnamed: 0</th>\n",
              "      <th>Rank</th>\n",
              "      <th>Revenues($M)</th>\n",
              "      <th>Revenue Percent Change</th>\n",
              "      <th>Profits ($M)</th>\n",
              "      <th>Profits Percent Change</th>\n",
              "      <th>Assets ($M)</th>\n",
              "      <th>Market Value as of march 31st of that year</th>\n",
              "      <th>Change in Rank (Full 1000)</th>\n",
              "      <th>Employees</th>\n",
              "      <th>Change in Rank (500 only)</th>\n",
              "      <th>Year</th>\n",
              "    </tr>\n",
              "  </thead>\n",
              "  <tbody>\n",
              "    <tr>\n",
              "      <th>count</th>\n",
              "      <td>2500.00000</td>\n",
              "      <td>2500.000000</td>\n",
              "      <td>2500.000000</td>\n",
              "      <td>2482.000000</td>\n",
              "      <td>2498.000000</td>\n",
              "      <td>2211.000000</td>\n",
              "      <td>2.500000e+03</td>\n",
              "      <td>2.361000e+03</td>\n",
              "      <td>2.398000e+03</td>\n",
              "      <td>2.471000e+03</td>\n",
              "      <td>2261.000000</td>\n",
              "      <td>2500.000000</td>\n",
              "    </tr>\n",
              "    <tr>\n",
              "      <th>mean</th>\n",
              "      <td>1249.50000</td>\n",
              "      <td>250.496400</td>\n",
              "      <td>26625.936400</td>\n",
              "      <td>0.058622</td>\n",
              "      <td>2046.718615</td>\n",
              "      <td>0.229910</td>\n",
              "      <td>8.895587e+04</td>\n",
              "      <td>4.944600e+04</td>\n",
              "      <td>1.175465e+04</td>\n",
              "      <td>4.662672e+04</td>\n",
              "      <td>2.582043</td>\n",
              "      <td>2019.000000</td>\n",
              "    </tr>\n",
              "    <tr>\n",
              "      <th>std</th>\n",
              "      <td>721.83216</td>\n",
              "      <td>144.363843</td>\n",
              "      <td>43389.758683</td>\n",
              "      <td>0.225311</td>\n",
              "      <td>5175.144093</td>\n",
              "      <td>8.071018</td>\n",
              "      <td>2.923330e+05</td>\n",
              "      <td>1.157578e+05</td>\n",
              "      <td>6.080155e+04</td>\n",
              "      <td>1.168001e+05</td>\n",
              "      <td>33.594419</td>\n",
              "      <td>1.414496</td>\n",
              "    </tr>\n",
              "    <tr>\n",
              "      <th>min</th>\n",
              "      <td>0.00000</td>\n",
              "      <td>1.000000</td>\n",
              "      <td>5145.000000</td>\n",
              "      <td>-0.750000</td>\n",
              "      <td>-22440.000000</td>\n",
              "      <td>-131.750000</td>\n",
              "      <td>4.370000e+02</td>\n",
              "      <td>9.700000e+00</td>\n",
              "      <td>-2.140000e+02</td>\n",
              "      <td>-2.040000e+02</td>\n",
              "      <td>-214.000000</td>\n",
              "      <td>2017.000000</td>\n",
              "    </tr>\n",
              "    <tr>\n",
              "      <th>25%</th>\n",
              "      <td>624.75000</td>\n",
              "      <td>125.750000</td>\n",
              "      <td>7844.750000</td>\n",
              "      <td>-0.020000</td>\n",
              "      <td>256.400000</td>\n",
              "      <td>-0.290000</td>\n",
              "      <td>9.564400e+03</td>\n",
              "      <td>7.033900e+03</td>\n",
              "      <td>-4.000000e+00</td>\n",
              "      <td>5.213500e+03</td>\n",
              "      <td>-9.000000</td>\n",
              "      <td>2018.000000</td>\n",
              "    </tr>\n",
              "    <tr>\n",
              "      <th>50%</th>\n",
              "      <td>1249.50000</td>\n",
              "      <td>250.500000</td>\n",
              "      <td>12165.450000</td>\n",
              "      <td>0.040000</td>\n",
              "      <td>813.350000</td>\n",
              "      <td>0.040000</td>\n",
              "      <td>2.133100e+04</td>\n",
              "      <td>1.805060e+04</td>\n",
              "      <td>8.000000e+00</td>\n",
              "      <td>1.790000e+04</td>\n",
              "      <td>2.000000</td>\n",
              "      <td>2019.000000</td>\n",
              "    </tr>\n",
              "    <tr>\n",
              "      <th>75%</th>\n",
              "      <td>1874.25000</td>\n",
              "      <td>375.250000</td>\n",
              "      <td>23536.750000</td>\n",
              "      <td>0.100000</td>\n",
              "      <td>2123.000000</td>\n",
              "      <td>0.360000</td>\n",
              "      <td>5.677870e+04</td>\n",
              "      <td>4.531300e+04</td>\n",
              "      <td>6.650000e+01</td>\n",
              "      <td>4.800000e+04</td>\n",
              "      <td>13.000000</td>\n",
              "      <td>2020.000000</td>\n",
              "    </tr>\n",
              "    <tr>\n",
              "      <th>max</th>\n",
              "      <td>2499.00000</td>\n",
              "      <td>500.000000</td>\n",
              "      <td>559151.000000</td>\n",
              "      <td>4.650000</td>\n",
              "      <td>81417.000000</td>\n",
              "      <td>231.780000</td>\n",
              "      <td>3.985749e+06</td>\n",
              "      <td>2.050666e+06</td>\n",
              "      <td>2.300000e+06</td>\n",
              "      <td>2.300000e+06</td>\n",
              "      <td>252.000000</td>\n",
              "      <td>2021.000000</td>\n",
              "    </tr>\n",
              "  </tbody>\n",
              "</table>\n",
              "</div>"
            ],
            "text/plain": [
              "       Unnamed: 0         Rank   Revenues($M)  Revenue Percent Change  \\\n",
              "count  2500.00000  2500.000000    2500.000000             2482.000000   \n",
              "mean   1249.50000   250.496400   26625.936400                0.058622   \n",
              "std     721.83216   144.363843   43389.758683                0.225311   \n",
              "min       0.00000     1.000000    5145.000000               -0.750000   \n",
              "25%     624.75000   125.750000    7844.750000               -0.020000   \n",
              "50%    1249.50000   250.500000   12165.450000                0.040000   \n",
              "75%    1874.25000   375.250000   23536.750000                0.100000   \n",
              "max    2499.00000   500.000000  559151.000000                4.650000   \n",
              "\n",
              "       Profits ($M)  Profits Percent Change   Assets ($M)  \\\n",
              "count   2498.000000             2211.000000  2.500000e+03   \n",
              "mean    2046.718615                0.229910  8.895587e+04   \n",
              "std     5175.144093                8.071018  2.923330e+05   \n",
              "min   -22440.000000             -131.750000  4.370000e+02   \n",
              "25%      256.400000               -0.290000  9.564400e+03   \n",
              "50%      813.350000                0.040000  2.133100e+04   \n",
              "75%     2123.000000                0.360000  5.677870e+04   \n",
              "max    81417.000000              231.780000  3.985749e+06   \n",
              "\n",
              "       Market Value as of march 31st of that year  Change in Rank (Full 1000)  \\\n",
              "count                                2.361000e+03                2.398000e+03   \n",
              "mean                                 4.944600e+04                1.175465e+04   \n",
              "std                                  1.157578e+05                6.080155e+04   \n",
              "min                                  9.700000e+00               -2.140000e+02   \n",
              "25%                                  7.033900e+03               -4.000000e+00   \n",
              "50%                                  1.805060e+04                8.000000e+00   \n",
              "75%                                  4.531300e+04                6.650000e+01   \n",
              "max                                  2.050666e+06                2.300000e+06   \n",
              "\n",
              "          Employees  Change in Rank (500 only)         Year  \n",
              "count  2.471000e+03                2261.000000  2500.000000  \n",
              "mean   4.662672e+04                   2.582043  2019.000000  \n",
              "std    1.168001e+05                  33.594419     1.414496  \n",
              "min   -2.040000e+02                -214.000000  2017.000000  \n",
              "25%    5.213500e+03                  -9.000000  2018.000000  \n",
              "50%    1.790000e+04                   2.000000  2019.000000  \n",
              "75%    4.800000e+04                  13.000000  2020.000000  \n",
              "max    2.300000e+06                 252.000000  2021.000000  "
            ]
          },
          "execution_count": 82,
          "metadata": {},
          "output_type": "execute_result"
        }
      ],
      "source": [
        "# Describe the dataset (#objects, #attributes, data types)\n",
        "#\n",
        "df.describe()"
      ]
    },
    {
      "cell_type": "code",
      "execution_count": 83,
      "metadata": {
        "id": "R2_rbsArgOQc"
      },
      "outputs": [
        {
          "data": {
            "text/plain": [
              "0       559151.0\n",
              "1       386064.0\n",
              "2       274515.0\n",
              "3       268706.0\n",
              "4       257141.0\n",
              "          ...   \n",
              "2495      5197.0\n",
              "2496      5170.0\n",
              "2497      5169.0\n",
              "2498      5164.0\n",
              "2499      5145.0\n",
              "Name: Revenues($M), Length: 2500, dtype: float64"
            ]
          },
          "execution_count": 83,
          "metadata": {},
          "output_type": "execute_result"
        }
      ],
      "source": [
        "# Extract the profits (one single column)\n",
        "#\n",
        "profits = df['Revenues($M)']\n",
        "profits"
      ]
    },
    {
      "cell_type": "code",
      "execution_count": 84,
      "metadata": {
        "id": "p9NpE3nztONT"
      },
      "outputs": [
        {
          "data": {
            "text/html": [
              "<div>\n",
              "<style scoped>\n",
              "    .dataframe tbody tr th:only-of-type {\n",
              "        vertical-align: middle;\n",
              "    }\n",
              "\n",
              "    .dataframe tbody tr th {\n",
              "        vertical-align: top;\n",
              "    }\n",
              "\n",
              "    .dataframe thead th {\n",
              "        text-align: right;\n",
              "    }\n",
              "</style>\n",
              "<table border=\"1\" class=\"dataframe\">\n",
              "  <thead>\n",
              "    <tr style=\"text-align: right;\">\n",
              "      <th></th>\n",
              "      <th>Unnamed: 0</th>\n",
              "      <th>Rank</th>\n",
              "      <th>Name</th>\n",
              "      <th>Revenues($M)</th>\n",
              "      <th>Revenue Percent Change</th>\n",
              "      <th>Profits ($M)</th>\n",
              "      <th>Profits Percent Change</th>\n",
              "      <th>Assets ($M)</th>\n",
              "      <th>Market Value as of march 31st of that year</th>\n",
              "      <th>Change in Rank (Full 1000)</th>\n",
              "      <th>Employees</th>\n",
              "      <th>Change in Rank (500 only)</th>\n",
              "      <th>Year</th>\n",
              "    </tr>\n",
              "  </thead>\n",
              "  <tbody>\n",
              "    <tr>\n",
              "      <th>0</th>\n",
              "      <td>0</td>\n",
              "      <td>1</td>\n",
              "      <td>Walmart</td>\n",
              "      <td>559151.0</td>\n",
              "      <td>0.07</td>\n",
              "      <td>13510.0</td>\n",
              "      <td>-0.09</td>\n",
              "      <td>252496.0</td>\n",
              "      <td>382642.8</td>\n",
              "      <td>NaN</td>\n",
              "      <td>2300000.0</td>\n",
              "      <td>NaN</td>\n",
              "      <td>2021</td>\n",
              "    </tr>\n",
              "    <tr>\n",
              "      <th>500</th>\n",
              "      <td>500</td>\n",
              "      <td>1</td>\n",
              "      <td>Walmart</td>\n",
              "      <td>523964.0</td>\n",
              "      <td>0.02</td>\n",
              "      <td>14881.0</td>\n",
              "      <td>1.23</td>\n",
              "      <td>236495.0</td>\n",
              "      <td>321803.3</td>\n",
              "      <td>NaN</td>\n",
              "      <td>2200000.0</td>\n",
              "      <td>NaN</td>\n",
              "      <td>2020</td>\n",
              "    </tr>\n",
              "    <tr>\n",
              "      <th>1000</th>\n",
              "      <td>1000</td>\n",
              "      <td>1</td>\n",
              "      <td>Walmart</td>\n",
              "      <td>514405.0</td>\n",
              "      <td>0.03</td>\n",
              "      <td>6670.0</td>\n",
              "      <td>-0.32</td>\n",
              "      <td>219295.0</td>\n",
              "      <td>279880.3</td>\n",
              "      <td>NaN</td>\n",
              "      <td>2200000.0</td>\n",
              "      <td>NaN</td>\n",
              "      <td>2019</td>\n",
              "    </tr>\n",
              "    <tr>\n",
              "      <th>1500</th>\n",
              "      <td>1500</td>\n",
              "      <td>1</td>\n",
              "      <td>Walmart</td>\n",
              "      <td>500343.0</td>\n",
              "      <td>0.03</td>\n",
              "      <td>9862.0</td>\n",
              "      <td>-0.28</td>\n",
              "      <td>204522.0</td>\n",
              "      <td>263563.1</td>\n",
              "      <td>NaN</td>\n",
              "      <td>2300000.0</td>\n",
              "      <td>NaN</td>\n",
              "      <td>2018</td>\n",
              "    </tr>\n",
              "    <tr>\n",
              "      <th>2000</th>\n",
              "      <td>2000</td>\n",
              "      <td>1</td>\n",
              "      <td>Walmart</td>\n",
              "      <td>485873.0</td>\n",
              "      <td>0.01</td>\n",
              "      <td>13643.0</td>\n",
              "      <td>-0.07</td>\n",
              "      <td>198825.0</td>\n",
              "      <td>218619.0</td>\n",
              "      <td>2300000.0</td>\n",
              "      <td>NaN</td>\n",
              "      <td>NaN</td>\n",
              "      <td>2017</td>\n",
              "    </tr>\n",
              "  </tbody>\n",
              "</table>\n",
              "</div>"
            ],
            "text/plain": [
              "      Unnamed: 0  Rank     Name  Revenues($M)  Revenue Percent Change  \\\n",
              "0              0     1  Walmart      559151.0                    0.07   \n",
              "500          500     1  Walmart      523964.0                    0.02   \n",
              "1000        1000     1  Walmart      514405.0                    0.03   \n",
              "1500        1500     1  Walmart      500343.0                    0.03   \n",
              "2000        2000     1  Walmart      485873.0                    0.01   \n",
              "\n",
              "      Profits ($M)  Profits Percent Change  Assets ($M)  \\\n",
              "0          13510.0                   -0.09     252496.0   \n",
              "500        14881.0                    1.23     236495.0   \n",
              "1000        6670.0                   -0.32     219295.0   \n",
              "1500        9862.0                   -0.28     204522.0   \n",
              "2000       13643.0                   -0.07     198825.0   \n",
              "\n",
              "      Market Value as of march 31st of that year  Change in Rank (Full 1000)  \\\n",
              "0                                       382642.8                         NaN   \n",
              "500                                     321803.3                         NaN   \n",
              "1000                                    279880.3                         NaN   \n",
              "1500                                    263563.1                         NaN   \n",
              "2000                                    218619.0                   2300000.0   \n",
              "\n",
              "      Employees  Change in Rank (500 only)  Year  \n",
              "0     2300000.0                        NaN  2021  \n",
              "500   2200000.0                        NaN  2020  \n",
              "1000  2200000.0                        NaN  2019  \n",
              "1500  2300000.0                        NaN  2018  \n",
              "2000        NaN                        NaN  2017  "
            ]
          },
          "execution_count": 84,
          "metadata": {},
          "output_type": "execute_result"
        }
      ],
      "source": [
        "# Extract only rows of a specific company\n",
        "#\n",
        "df.loc[df['Name'] == 'Walmart']"
      ]
    },
    {
      "cell_type": "code",
      "execution_count": 85,
      "metadata": {
        "id": "hCFl4nnCoioi"
      },
      "outputs": [
        {
          "data": {
            "text/plain": [
              "Year\n",
              "2021    500\n",
              "2020    500\n",
              "2019    500\n",
              "2018    500\n",
              "2017    500\n",
              "Name: count, dtype: int64"
            ]
          },
          "execution_count": 85,
          "metadata": {},
          "output_type": "execute_result"
        }
      ],
      "source": [
        "# Count the number of items you have per each \"year\". There are 5 years monitored, i.e., from 2017 to 2021. Hint: .value_counts()\n",
        "#\n",
        "df['Year'].value_counts()"
      ]
    },
    {
      "cell_type": "code",
      "execution_count": 86,
      "metadata": {
        "id": "5c0M7iRhptkw"
      },
      "outputs": [
        {
          "data": {
            "text/plain": [
              "Year\n",
              "2021    0.2\n",
              "2020    0.2\n",
              "2019    0.2\n",
              "2018    0.2\n",
              "2017    0.2\n",
              "Name: count, dtype: float64"
            ]
          },
          "execution_count": 86,
          "metadata": {},
          "output_type": "execute_result"
        }
      ],
      "source": [
        "# Repeat the same as above, but print the normalized value (as a percentage of the total number of objects, i.e., the number of rows)\n",
        "#\n",
        "df['Year'].value_counts()/len(df)"
      ]
    },
    {
      "cell_type": "markdown",
      "metadata": {
        "id": "MSeUGyRAGDH8"
      },
      "source": [
        "# **TASK2: Manipulate the dataset**"
      ]
    },
    {
      "cell_type": "code",
      "execution_count": 87,
      "metadata": {},
      "outputs": [
        {
          "data": {
            "text/plain": [
              "13"
            ]
          },
          "execution_count": 87,
          "metadata": {},
          "output_type": "execute_result"
        }
      ],
      "source": [
        "df.columns.value_counts().sum()"
      ]
    },
    {
      "cell_type": "code",
      "execution_count": 88,
      "metadata": {
        "id": "_MP2_R8jTdxT"
      },
      "outputs": [],
      "source": [
        "# Let’s just rename those columns in a simpler way. See the guiding slides!\n",
        "# df.columns =\n",
        "\n",
        "# Visualize again the first 10 elements\n",
        "#\n",
        "df.columns = ['id', 'rank', 'company', 'revenues', 'revenue_perc', 'profit', 'profit_perc', 'assets', 'market_value', 'change1000', 'employees', 'change500', 'year']"
      ]
    },
    {
      "cell_type": "markdown",
      "metadata": {
        "id": "-avNeYb2-9W_"
      },
      "source": [
        "### **Handling NaN**"
      ]
    },
    {
      "cell_type": "code",
      "execution_count": 89,
      "metadata": {
        "id": "zbTS6754jRn-"
      },
      "outputs": [
        {
          "data": {
            "text/plain": [
              "818"
            ]
          },
          "execution_count": 89,
          "metadata": {},
          "output_type": "execute_result"
        }
      ],
      "source": [
        "# Check for NaN under an entire DataFrame\n",
        "#\n",
        "df.isna().sum().sum()"
      ]
    },
    {
      "cell_type": "code",
      "execution_count": 90,
      "metadata": {
        "id": "BKmE_J6NjKpW"
      },
      "outputs": [
        {
          "data": {
            "text/plain": [
              "2"
            ]
          },
          "execution_count": 90,
          "metadata": {},
          "output_type": "execute_result"
        }
      ],
      "source": [
        "# Count the number of NaN in the \"profit\" column\n",
        "#\n",
        "df['profit'].isna().sum()"
      ]
    },
    {
      "cell_type": "code",
      "execution_count": 91,
      "metadata": {
        "id": "GwU3InsyxzNm"
      },
      "outputs": [
        {
          "data": {
            "text/plain": [
              "(57.3, 0.3, 127.4, 56.270596229291904)"
            ]
          },
          "execution_count": 91,
          "metadata": {},
          "output_type": "execute_result"
        }
      ],
      "source": [
        "# Compute the mean, min, max, and standard deviation profit of company = «ABM Industries» in 2017-2021. Use skipna=True to discard NaN entries.\n",
        "#\n",
        "#\n",
        "#\n",
        "#\n",
        "abm = df[df['company'] == 'ABM Industries']\n",
        "abm['profit'].mean(), abm['profit'].min(), abm['profit'].max(), abm['profit'].std()"
      ]
    },
    {
      "cell_type": "code",
      "execution_count": 92,
      "metadata": {
        "id": "DbiyYDZTJ2xB"
      },
      "outputs": [
        {
          "data": {
            "text/plain": [
              "(                  0\n",
              " count  2.498000e+03\n",
              " mean   1.706668e-17\n",
              " std    1.000200e+00\n",
              " min   -4.732549e+00\n",
              " 25%   -3.460149e-01\n",
              " 50%   -2.383732e-01\n",
              " 75%    1.474291e-02\n",
              " max    1.533990e+01,\n",
              "                  0\n",
              " count  2498.000000\n",
              " mean      0.235773\n",
              " std       0.049830\n",
              " min       0.000000\n",
              " 25%       0.218535\n",
              " 50%       0.223898\n",
              " 75%       0.236508\n",
              " max       1.000000,\n",
              "                  0\n",
              " count  2498.000000\n",
              " mean      0.660757\n",
              " std       2.772498\n",
              " min     -12.457597\n",
              " 25%      -0.298377\n",
              " 50%       0.000000\n",
              " 75%       0.701623\n",
              " max      43.182069,\n",
              "                  0\n",
              " count  2498.000000\n",
              " mean      0.737390\n",
              " std       0.675603\n",
              " min      -1.000000\n",
              " 25%       1.000000\n",
              " 50%       1.000000\n",
              " 75%       1.000000\n",
              " max       1.000000)"
            ]
          },
          "execution_count": 92,
          "metadata": {},
          "output_type": "execute_result"
        }
      ],
      "source": [
        "# Choose ONE COLUMN and decide how to scale it. You can opt for one either the four methods reported in the guiding slides.\n",
        "#\n",
        "# Initialize the scaler you want to use: MinMaxScaler(), StandardScaler(), RobustScaler(), Normalizer()\n",
        "from sklearn.preprocessing import MinMaxScaler, StandardScaler, RobustScaler, Normalizer\n",
        "# scaler = ...\n",
        "#\n",
        "#\n",
        "\n",
        "standard = pd.DataFrame(StandardScaler().fit_transform(df['profit'].to_frame()))\n",
        "minmax = pd.DataFrame(MinMaxScaler().fit_transform(df['profit'].to_frame()))\n",
        "robust = pd.DataFrame(RobustScaler().fit_transform(df['profit'].to_frame()))\n",
        "normal = pd.DataFrame(Normalizer().fit_transform(df['profit'].dropna().to_frame()))\n",
        "# Print the scaled values\n",
        "#\n",
        "standard.describe(), minmax.describe(), robust.describe(), normal.describe()"
      ]
    },
    {
      "cell_type": "code",
      "execution_count": 155,
      "metadata": {},
      "outputs": [
        {
          "data": {
            "text/plain": [
              "(328, 328)"
            ]
          },
          "execution_count": 155,
          "metadata": {},
          "output_type": "execute_result"
        }
      ],
      "source": [
        "filtered = df[ ~ df['profit'].isna()]\n",
        "filtered.reset_index(drop=True, inplace=True)\n",
        "filtered[normal[0] == -1]['profit'].__len__(), normal.value_counts()[-1]"
      ]
    },
    {
      "cell_type": "markdown",
      "metadata": {
        "id": "SgCF5G1UCcwr"
      },
      "source": [
        "# **TASK 3: Visualize the dataframe**"
      ]
    },
    {
      "cell_type": "code",
      "execution_count": 93,
      "metadata": {
        "id": "rlB9uuB1IPZa"
      },
      "outputs": [
        {
          "data": {
            "image/png": "[encoded data removed]",
            "text/plain": [
              "<Figure size 640x480 with 1 Axes>"
            ]
          },
          "metadata": {},
          "output_type": "display_data"
        }
      ],
      "source": [
        "# Using Matplotlib, plot the revenues. Hint: plt.plot\n",
        "%matplotlib inline\n",
        "\n",
        "# Extract the revenues\n",
        "#\n",
        "#\n",
        "\n",
        "\n",
        "# Plot the figure\n",
        "plt.figure()\n",
        "df['revenues'].plot()\n",
        "#\n",
        "#\n",
        "#\n",
        "#\n",
        "plt.xlabel('Observations')\n",
        "plt.ylabel('Revenues')\n",
        "plt.ylim(df['revenues'].min(), df['revenues'].max())\n",
        "plt.title('Revenues')\n",
        "plt.grid()\n",
        "plt.show()"
      ]
    },
    {
      "cell_type": "code",
      "execution_count": 104,
      "metadata": {
        "id": "De2lToUGIWAH"
      },
      "outputs": [
        {
          "data": {
            "text/plain": [
              "<Axes: >"
            ]
          },
          "execution_count": 104,
          "metadata": {},
          "output_type": "execute_result"
        },
        {
          "data": {
            "image/png": "[encoded data removed]",
            "text/plain": [
              "<Figure size 640x480 with 1 Axes>"
            ]
          },
          "metadata": {},
          "output_type": "display_data"
        }
      ],
      "source": [
        "# Using Matplotlib, plot the revenues of a specific company (e.g., ABM Industries) in the years\n",
        "#\n",
        "#\n",
        "#\n",
        "#\n",
        "#\n",
        "\n",
        "df[df['company'] == 'Walmart']['revenues'].plot()"
      ]
    },
    {
      "cell_type": "code",
      "execution_count": 101,
      "metadata": {
        "id": "TO84yRd1IjGH"
      },
      "outputs": [
        {
          "data": {
            "text/plain": [
              "<matplotlib.collections.PathCollection at 0x16fc184d0>"
            ]
          },
          "execution_count": 101,
          "metadata": {},
          "output_type": "execute_result"
        },
        {
          "data": {
            "image/png": "[encoded data removed]",
            "text/plain": [
              "<Figure size 640x480 with 1 Axes>"
            ]
          },
          "metadata": {},
          "output_type": "display_data"
        }
      ],
      "source": [
        "# Using Matplotlib, make a SCATTERPLOT to see if any trend exists between profits and employees. Hint: plt.scatter\n",
        "#\n",
        "#\n",
        "#\n",
        "#\n",
        "#\n",
        "\n",
        "plt.scatter(df.profit, df.employees)"
      ]
    },
    {
      "cell_type": "code",
      "execution_count": 102,
      "metadata": {
        "id": "VSHPrJOIjorj"
      },
      "outputs": [
        {
          "data": {
            "text/plain": [
              "<Axes: xlabel='profit', ylabel='employees'>"
            ]
          },
          "execution_count": 102,
          "metadata": {},
          "output_type": "execute_result"
        },
        {
          "data": {
            "image/png": "[encoded data removed]",
            "text/plain": [
              "<Figure size 640x480 with 1 Axes>"
            ]
          },
          "metadata": {},
          "output_type": "display_data"
        }
      ],
      "source": [
        "# Using Seaborn, repeat the SCATTERPLOT\n",
        "#\n",
        "#\n",
        "#\n",
        "#\n",
        "#\n",
        "\n",
        "sns.scatterplot(x = df.profit, y = df.employees)"
      ]
    },
    {
      "cell_type": "markdown",
      "metadata": {
        "id": "XpANdwtYnI5E"
      },
      "source": [
        "\n",
        "\n",
        "---\n",
        "\n",
        "\n",
        "### **_This is the end of Lab#1 session._**\n",
        "\n",
        "\n",
        "---\n",
        "\n",
        "\n",
        "\n",
        "---"
      ]
    }
  ],
  "metadata": {
    "colab": {
      "provenance": []
    },
    "gpuClass": "standard",
    "kernelspec": {
      "display_name": "Python 3",
      "name": "python3"
    },
    "language_info": {
      "codemirror_mode": {
        "name": "ipython",
        "version": 3
      },
      "file_extension": ".py",
      "mimetype": "text/x-python",
      "name": "python",
      "nbconvert_exporter": "python",
      "pygments_lexer": "ipython3",
      "version": "3.11.3"
    }
  },
  "nbformat": 4,
  "nbformat_minor": 0
}
