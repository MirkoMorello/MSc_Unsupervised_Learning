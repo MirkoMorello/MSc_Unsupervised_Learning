{
 "cells": [
  {
   "cell_type": "markdown",
   "metadata": {},
   "source": [
    "# L16 15/04/24"
   ]
  },
  {
   "cell_type": "markdown",
   "metadata": {},
   "source": [
    "# Anomaly detection: Additional Algorithms"
   ]
  },
  {
   "cell_type": "markdown",
   "metadata": {},
   "source": [
    "# One Class SVM:"
   ]
  },
  {
   "cell_type": "markdown",
   "metadata": {},
   "source": [
    "We typically use SVM to solve binary classification problems. For anomaly detection is different.  \n",
    "\n",
    "In supervised SVM we gind the hyperplane separating the positive class from the negative class, while in anomaly detection we only use the normal class data, we are not sure what is anomalous and what is not, so what we need to learn is the boundary of normal data objects.\n",
    "\n",
    "![](img/2024-04-15-14-43-24.png)\n",
    "\n",
    "We basically want to find this contour.\n",
    "\n",
    "### Kernels\n",
    "\n",
    "We want to transform the data and go to a higher dimensional space in order to be able to separate the data there with an hyperplane, the, in the transformed space the training instances can be separeted from the hyperplane here defined:  $$<w, \\phi(x) = b>$$\n",
    "\n",
    "### Kernel trick"
   ]
  },
  {
   "cell_type": "markdown",
   "metadata": {},
   "source": [
    "let's for example use a gaussiabn kernel, the kernel is as follow: $k(x,y) = exp(\\frac{||x-y||^2}{2 \\sigma^2})$\n",
    "- Every point x is mapped to a nuit hypersphere $k(x,x) = <\\phi(x), \\phi(x)> = ||x||^2 = 1$\n",
    "- all points x and y in the same orthant (quadrant) $k(x,y) = <\\phi(x), \\phi(y)> \\geq 0$\n",
    "it aims to maximize the distance of the separating plane from the origin\n",
    "\n",
    "![](img/2024-04-15-14-52-31.png)\n",
    "![](img/2024-04-15-14-52-58.png)"
   ]
  },
  {
   "cell_type": "markdown",
   "metadata": {},
   "source": [
    "- In the style of soft margin SVMs, if  some of the training instances lie on the opposite side of the hyperplane (corresponding to the anomaly class), then the distance of such points from the hyperplane should be minimized\n",
    "\n",
    "- It is important for an anomaly detection \n",
    "algorithm to be robust to a small \n",
    "number of outliers in the training set "
   ]
  },
  {
   "cell_type": "markdown",
   "metadata": {},
   "source": [
    "Decision Boundary with:  \n",
    "\n",
    "$v = 0.05$  \n",
    "$v = 0.1$  \n",
    "$v = 0.2$  \n",
    "\n",
    "![](img/2024-04-15-14-58-00.png)"
   ]
  },
  {
   "cell_type": "markdown",
   "metadata": {},
   "source": [
    "Pros and cons:\n",
    "- Strong theoretical foundation\n",
    "- Choice of v is difficult\n",
    "- Computationally expensive"
   ]
  },
  {
   "cell_type": "markdown",
   "metadata": {},
   "source": [
    "----"
   ]
  },
  {
   "cell_type": "markdown",
   "metadata": {},
   "source": [
    "# Information Theoretic Approaches:"
   ]
  },
  {
   "cell_type": "markdown",
   "metadata": {},
   "source": [
    "The idea is to measure how much information deecreases when you delete an observation, we expect that anomalies x should show higher gain, while normal points x should have less gain: $Gain(x) = Info(D) - Info(\\frac{D}{x})$"
   ]
  },
  {
   "cell_type": "markdown",
   "metadata": {},
   "source": [
    "We can compute the entropy as the Info function over the entire dataset, we then subtract the Gain:  \n",
    "$Info(D) = Entropy(D) = \\sum{-p_i log_2(p_i)}$\n",
    "\n",
    "![](img/2024-04-15-15-11-19.png)"
   ]
  },
  {
   "cell_type": "markdown",
   "metadata": {},
   "source": [
    "Pros and cons:\n",
    "- Solid theoretical foundation\n",
    "- Theoretically applicable to all kinds of data\n",
    "- Difficult and computationally expensive to impelement in practice"
   ]
  },
  {
   "cell_type": "markdown",
   "metadata": {},
   "source": [
    "# Evaluation of Anomaly Detection:"
   ]
  },
  {
   "cell_type": "markdown",
   "metadata": {},
   "source": [
    "- If class labels are present, then use standard evaluation approaches for rare class such as precision, recall or false positive rate.\n",
    "- For unsupervised anomaly detection use measures provided by the anomaly method, for example reconstruction error or gain\n",
    "- Can also look at histograms of anomaly scores"
   ]
  },
  {
   "cell_type": "markdown",
   "metadata": {},
   "source": [
    "![](img/2024-04-15-15-17-49.png)"
   ]
  },
  {
   "cell_type": "markdown",
   "metadata": {},
   "source": [
    "The distribution on the right is more informative than the one on the left. This is because the first graph tells us basically that there are two different distributions, while the LOF gives us information about the outlier factor (?)"
   ]
  },
  {
   "cell_type": "markdown",
   "metadata": {},
   "source": [
    "# About the project:\n",
    "\n",
    "21 attributes:\n",
    "- 15 binaries\n",
    "- 6 continuous\n",
    "7200 data objects  \n",
    "\n",
    "- We have to dig a little bit about the literature.  \n",
    "- Develop a software for anomaly detectoin with at least two different algorithms, explaining the advantages and disadvantages, we have to comment the code pretty well.  \n",
    "- Deliver a techincal report, just 6 pages.  \n",
    "- Deliver a datafile with the last column containing the probability of the data object of being anomalous (histogram seen today for example).  \n",
    "- We can access everything we need.  \n",
    "- Project 20 points:\n",
    "  - Code\n",
    "    - Correctness 4 points\n",
    "    - Efficiency 3 points\n",
    "    - Clarity 3 points\n",
    "  - Report\n",
    "    - Correctness 4 points\n",
    "    - Clarity of expression and communication of ideas 3 points\n",
    "    - Tables, figures, captions, are they appropriate? Well motivated? Explained? 3 points\n",
    "- Interview 13 points, 20 minutes, 10 minutes for the presentation with slides, 10 minutes each about using methods, advantages, where we found statements etc. or about topics presented in the course."
   ]
  }
 ],
 "metadata": {
  "language_info": {
   "name": "python"
  }
 },
 "nbformat": 4,
 "nbformat_minor": 2
}
