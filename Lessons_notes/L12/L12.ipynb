{
 "cells": [
  {
   "cell_type": "markdown",
   "metadata": {},
   "source": [
    "# L12 27/03/24"
   ]
  },
  {
   "cell_type": "markdown",
   "metadata": {},
   "source": [
    "# Introduction to anomaly detection"
   ]
  },
  {
   "cell_type": "markdown",
   "metadata": {},
   "source": [
    "### What are anomiales/outliers?\n",
    "- The set of data points that are considerably different then the remainder of the data  \n",
    "- A natural implication is that anomialies are relatively rare, one in a thousand occurs often if you have a lots of data\n",
    "- Of course context is important though (for example, freezing temperatures in July)  \n",
    "- It can either be important or a nuisance\n"
   ]
  },
  {
   "cell_type": "markdown",
   "metadata": {},
   "source": [
    "### What are the causes of anomalies?\n",
    "\n",
    "- Data from different classes, for example measurin the weights of oranges but a few grapefruit are mixed in\n",
    "- Natural variation\n",
    "- Data errors\n",
    "- Cyber intrusions\n",
    "- Fault in mechanical systems"
   ]
  },
  {
   "cell_type": "markdown",
   "metadata": {},
   "source": [
    "### Usually, the data is handled by anomaly detection techniques:\n",
    "We also usually have Relationship among data instances in complex data types, for example:\n",
    "- Sequential\n",
    "- Temporal\n",
    "- Spatial\n",
    "- Spatio-temporal\n",
    "- Graph\n",
    "\n",
    "Not all the data labels are available in the same way though:\n",
    "- **Supervised Anomaly Detection:**\n",
    "  - Labels are available for both normal and anomalies\n",
    "  - Similar to rare class mining\n",
    "- **Semi-Supervised Anomaly Detection**\n",
    "  - Labels are available only for normal data\n",
    "- **Unsupervised Anomaly Detection**\n",
    "  - No labels assumed\n",
    "  - Based on the assumption that anomalies are very rare compared to normal data"
   ]
  },
  {
   "cell_type": "markdown",
   "metadata": {},
   "source": [
    "There are also different types of anomalies:"
   ]
  },
  {
   "cell_type": "markdown",
   "metadata": {},
   "source": [
    "## Point anomalies  \n",
    "\n",
    "An individual data instance is anomalous with reference to the data:\n",
    "\n",
    "<img src = '2024-04-10-16-20-20.png' center style=\" height: 500px\"/>"
   ]
  },
  {
   "cell_type": "markdown",
   "metadata": {},
   "source": [
    "## Contextual anomalies"
   ]
  },
  {
   "cell_type": "markdown",
   "metadata": {},
   "source": [
    "\n",
    "\n",
    "An individual data instance is anomalous within a context, requires a notion of context, it's also referred to as conditinal anomalies\n",
    "\n",
    "<img src = 'img/2024-04-10-16-37-34.png' center style=\" height: 500px\"/>"
   ]
  },
  {
   "cell_type": "markdown",
   "metadata": {},
   "source": [
    "## "
   ]
  },
  {
   "cell_type": "markdown",
   "metadata": {},
   "source": [
    "## Collective Anomalies"
   ]
  },
  {
   "cell_type": "markdown",
   "metadata": {},
   "source": [
    "A collection of related data instances is anomalous.  \n",
    "Requires a relationship among data instances:\n",
    "- Sequential data\n",
    "- Spatial data\n",
    "- Graph data"
   ]
  },
  {
   "cell_type": "markdown",
   "metadata": {},
   "source": [
    "<img src = 'img/2024-04-10-16-39-45.png' center style=\" height: 500px\"/>"
   ]
  },
  {
   "cell_type": "markdown",
   "metadata": {},
   "source": []
  }
 ],
 "metadata": {
  "language_info": {
   "name": "python"
  }
 },
 "nbformat": 4,
 "nbformat_minor": 2
}
