{
 "cells": [
  {
   "cell_type": "markdown",
   "metadata": {},
   "source": [
    "# L18 17/04/24"
   ]
  },
  {
   "cell_type": "markdown",
   "metadata": {},
   "source": [
    "# Introduction to Bayesian Networks"
   ]
  },
  {
   "cell_type": "markdown",
   "metadata": {},
   "source": [
    "Correlation is not causation\n",
    "\n",
    "### Ladder of Causation:\n",
    "\n",
    "- Seeing, \"what if I see...?\" (\"How likely is a customer who bought toothpaste to also buy dental floss?\")\n",
    "- Intervention, \"What is I do ...?\" \"What will happen to our floss sales if we double the price of toothpaste?\" It calls fo a knowledge absent from the data.\n",
    "- Imagining, \"What if I had done ...?\" \"What would have happened if I had not taken the aspirin?\" No experiment in the world can deny the treatment to an already trated person and compare the two outcomes, so we must import a whole new find of knowledge.\n"
   ]
  },
  {
   "cell_type": "markdown",
   "metadata": {},
   "source": [
    "![alt text](image.png)\n",
    "![alt text](image-1.png)\n",
    "![alt text](image-2.png)\n",
    "![alt text](image-3.png)\n",
    "![alt text](image-4.png)\n",
    "![alt text](image-5.png)"
   ]
  }
 ],
 "metadata": {
  "language_info": {
   "name": "python"
  }
 },
 "nbformat": 4,
 "nbformat_minor": 2
}
